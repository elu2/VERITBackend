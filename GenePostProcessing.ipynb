{
 "cells": [
  {
   "cell_type": "markdown",
   "id": "b9f1fa41-4f01-41bf-bca6-33bc7b50b73d",
   "metadata": {
    "tags": []
   },
   "source": [
    "# Gene post-processing\n",
    "\n",
    "Motivation: ensure genes are displayed properly and properly searchable"
   ]
  },
  {
   "cell_type": "code",
   "execution_count": null,
   "id": "d574d066-dadb-40ce-b83e-da6741510f2e",
   "metadata": {},
   "outputs": [],
   "source": [
    "import pandas as pd\n",
    "import numpy as np\n",
    "import pickle"
   ]
  },
  {
   "cell_type": "code",
   "execution_count": null,
   "id": "bae9c996-a2ba-40cd-9d1b-7a6b40262977",
   "metadata": {},
   "outputs": [],
   "source": [
    "nodes_df = pd.read_pickle(\"C:/Users/ericj/Downloads/verit-web/nodes.pkl\")\n",
    "nodes_df[\"KB\"] = nodes_df[\"Id\"].str.split(\":\").str[0]"
   ]
  },
  {
   "cell_type": "code",
   "execution_count": null,
   "id": "ab27a473-bc84-4dc1-abbe-d17076b00a23",
   "metadata": {},
   "outputs": [],
   "source": [
    "# Get all uniprot ids and prepare for uniprot id mapping tool\n",
    "up_ids = nodes_df[nodes_df[\"Id\"].str.startswith(\"uniprot:\")].drop_duplicates(subset=\"Id\")[\"Id\"]\n",
    "up_ids = up_ids.str.split(\":\").str[1]\n",
    "pd.DataFrame(up_ids).to_csv(\"~/Downloads/UniProt_node_IDs.csv\", index=False)"
   ]
  },
  {
   "cell_type": "code",
   "execution_count": null,
   "id": "a2212634-fdec-4b05-9d96-b2ef844bfa70",
   "metadata": {},
   "outputs": [],
   "source": [
    "# After running mapping tool, select the \"From\" and \"Gene Names\" fields for writing out\n",
    "up_df = pd.read_csv(\"~/Downloads/nodes_uniprot_primary_v1.tsv\", sep=\"\\t\")\n",
    "up_df[\"Gene Names\"] = up_df[\"Gene Names\"].str.split(\" \")\n",
    "up_df = up_df.explode(\"Gene Names\").reset_index(drop=True).drop_duplicates()\n",
    "up_df.columns = [\"Id\", \"Label\"]\n",
    "up_df[\"Id\"] = \"uniprot:\" + up_df[\"Id\"]\n",
    "\n",
    "# Write out as the uniprot mappings\n",
    "with open(\"./uniprot_nodes.pkl\", \"wb\") as p:\n",
    "    pickle.dump(up_df, p)"
   ]
  },
  {
   "cell_type": "code",
   "execution_count": null,
   "id": "eb46241e-7051-439c-a02d-5d6f99f93ae3",
   "metadata": {},
   "outputs": [],
   "source": [
    "up_temp = up_df.merge(nodes_df[[\"Id\", \"PR\"]], on=\"Id\", how=\"left\").drop_duplicates()\n",
    "\n",
    "up_temp[\"Priority\"] = True\n",
    "nodes_df[\"Priority\"] = False\n",
    "up_temp[\"KB\"] = \"uniprot\"\n",
    "\n",
    "nodes_df = pd.concat([nodes_df, up_temp]).sort_values([\"Id\", \"Priority\"], ascending=False).reset_index(drop=True).drop_duplicates()\n",
    "\n",
    "# Write out as nodes (the important part for displaying correct symbol)\n",
    "with open(\"./PMC_OA_pickles/nodes.pkl\", \"wb\") as p:\n",
    "    pickle.dump(nodes_df, p)"
   ]
  },
  {
   "cell_type": "code",
   "execution_count": null,
   "id": "2c118601-d1b8-4319-9a98-25b5cdf3cf9b",
   "metadata": {},
   "outputs": [],
   "source": [
    "cdb_df = pd.read_pickle(\"../combinedDBs.pkl\")\n",
    "\n",
    "up_temp = up_df.copy()\n",
    "up_temp.columns = [\"id\", \"name\"]\n",
    "\n",
    "up_temp[\"Priority\"] = True\n",
    "cdb_df[\"Priority\"] = False\n",
    "\n",
    "cdb_df = pd.concat([cdb_df, up_temp]).sort_values([\"id\", \"Priority\"], ascending=False).reset_index(drop=True).drop_duplicates()\n",
    "\n",
    "# Write out as combinedDBs (important for ensuring )\n",
    "with open(\"./PMC_OA_pickles/combinedDBs.pkl\", \"wb\") as p:\n",
    "    pickle.dump(cdb_df, p)"
   ]
  },
  {
   "cell_type": "code",
   "execution_count": null,
   "id": "22a4cd2f-2c05-4831-83ea-666baa5a6a19",
   "metadata": {},
   "outputs": [],
   "source": []
  }
 ],
 "metadata": {
  "kernelspec": {
   "display_name": "Python 3 (ipykernel)",
   "language": "python",
   "name": "python3"
  },
  "language_info": {
   "codemirror_mode": {
    "name": "ipython",
    "version": 3
   },
   "file_extension": ".py",
   "mimetype": "text/x-python",
   "name": "python",
   "nbconvert_exporter": "python",
   "pygments_lexer": "ipython3",
   "version": "3.9.13"
  }
 },
 "nbformat": 4,
 "nbformat_minor": 5
}
