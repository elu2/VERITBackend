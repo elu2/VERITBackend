{
 "cells": [
  {
   "cell_type": "markdown",
   "id": "b9f1fa41-4f01-41bf-bca6-33bc7b50b73d",
   "metadata": {
    "tags": []
   },
   "source": [
    "# Gene post-processing\n",
    "\n",
    "Motivation: ensure genes are displayed properly and properly searchable. Principally concerns UniProt."
   ]
  },
  {
   "cell_type": "code",
   "execution_count": 1,
   "id": "a7179168-284b-441c-89be-e74798e8ea97",
   "metadata": {},
   "outputs": [
    {
     "data": {
      "text/plain": [
       "'1.4.0'"
      ]
     },
     "execution_count": 1,
     "metadata": {},
     "output_type": "execute_result"
    }
   ],
   "source": [
    "import pandas as pd\n",
    "pd.__version__"
   ]
  },
  {
   "cell_type": "code",
   "execution_count": null,
   "id": "d574d066-dadb-40ce-b83e-da6741510f2e",
   "metadata": {},
   "outputs": [],
   "source": [
    "import pandas as pd\n",
    "import numpy as np\n",
    "import pickle"
   ]
  },
  {
   "cell_type": "code",
   "execution_count": null,
   "id": "bae9c996-a2ba-40cd-9d1b-7a6b40262977",
   "metadata": {},
   "outputs": [],
   "source": [
    "nodes_df = pd.read_pickle(\"./verit-web/nodes.pkl\")\n",
    "nodes_df[\"KB\"] = nodes_df[\"Id\"].str.split(\":\").str[0]"
   ]
  },
  {
   "cell_type": "code",
   "execution_count": null,
   "id": "ab27a473-bc84-4dc1-abbe-d17076b00a23",
   "metadata": {},
   "outputs": [],
   "source": [
    "# Get all existing uniprot ids from nodes.pkl and prepare for uniprot id mapping tool\n",
    "up_ids = nodes_df[nodes_df[\"Id\"].str.startswith(\"uniprot:\")].drop_duplicates(subset=\"Id\")[\"Id\"]\n",
    "up_ids = up_ids.str.split(\":\").str[1]\n",
    "pd.DataFrame(up_ids).to_csv(\"~/Downloads/UniProt_node_IDs.csv\", index=False)"
   ]
  },
  {
   "cell_type": "code",
   "execution_count": null,
   "id": "a2212634-fdec-4b05-9d96-b2ef844bfa70",
   "metadata": {},
   "outputs": [],
   "source": [
    "# After running mapping tool, select the \"From\" and \"Gene Names\" fields for writing out\n",
    "up_df = pd.read_csv(\"~/Downloads/nodes_uniprot_primary_v1.tsv\", sep=\"\\t\")\n",
    "up_df[\"Gene Names\"] = up_df[\"Gene Names\"].str.split(\" \")\n",
    "up_df = up_df.explode(\"Gene Names\").reset_index(drop=True).drop_duplicates()\n",
    "up_df.columns = [\"Id\", \"Label\"]\n",
    "up_df[\"Id\"] = \"uniprot:\" + up_df[\"Id\"]\n",
    "\n",
    "# Write out as the uniprot mappings\n",
    "with open(\"./uniprot_nodes.pkl\", \"wb\") as p:\n",
    "    pickle.dump(up_df, p)"
   ]
  },
  {
   "cell_type": "code",
   "execution_count": null,
   "id": "eb46241e-7051-439c-a02d-5d6f99f93ae3",
   "metadata": {},
   "outputs": [],
   "source": [
    "up_temp = up_df.merge(nodes_df[[\"Id\", \"PR\"]], on=\"Id\", how=\"left\").drop_duplicates()\n",
    "\n",
    "up_temp[\"Priority\"] = True\n",
    "nodes_df[\"Priority\"] = False\n",
    "up_temp[\"KB\"] = \"uniprot\"\n",
    "\n",
    "nodes_df = pd.concat([nodes_df, up_temp]).sort_values([\"Id\", \"Priority\"], ascending=False)\n",
    "nodes_df = nodes_df.dropna().reset_index(drop=True).drop_duplicates()\n",
    "\n",
    "# Write out as nodes (the important part for displaying correct symbol)\n",
    "with open(\"./PMC_OA_pickles/nodes.pkl\", \"wb\") as p:\n",
    "    pickle.dump(nodes_df, p)"
   ]
  },
  {
   "cell_type": "code",
   "execution_count": null,
   "id": "2c118601-d1b8-4319-9a98-25b5cdf3cf9b",
   "metadata": {},
   "outputs": [],
   "source": [
    "cdb_df = pd.read_pickle(\"../combinedDBs.pkl\")\n",
    "\n",
    "up_temp = up_df.copy()\n",
    "up_temp.columns = [\"id\", \"name\"]\n",
    "\n",
    "up_temp[\"Priority\"] = True\n",
    "cdb_df[\"Priority\"] = False\n",
    "\n",
    "cdb_df = pd.concat([cdb_df, up_temp]).sort_values([\"id\", \"Priority\"], ascending=False).reset_index(drop=True).drop_duplicates()\n",
    "\n",
    "# Write out as combinedDBs (important for ensuring )\n",
    "with open(\"./PMC_OA_pickles/combinedDBs.pkl\", \"wb\") as p:\n",
    "    pickle.dump(cdb_df, p)"
   ]
  },
  {
   "cell_type": "markdown",
   "id": "b916faf5-c837-4d17-a350-5d08602f055e",
   "metadata": {},
   "source": [
    "## If need pandas 1.1.5, run below\n",
    "Must downgrade pandas"
   ]
  },
  {
   "cell_type": "code",
   "execution_count": null,
   "id": "22a4cd2f-2c05-4831-83ea-666baa5a6a19",
   "metadata": {},
   "outputs": [],
   "source": [
    "pkl = pd.read_pickle(\"~/Downloads/verit-web/PMC_OA_pickles/nodes.pkl\")\n",
    "pkl.to_csv(\"./p115_nodes.csv\", index=False)"
   ]
  },
  {
   "cell_type": "code",
   "execution_count": null,
   "id": "2810f471-8357-4248-bfbc-5f400fa08e82",
   "metadata": {},
   "outputs": [],
   "source": [
    "pkl = pd.read_pickle(\"~/Downloads/verit-web/PMC_OA_pickles/uniprot_nodes.pkl\")\n",
    "pkl.to_csv(\"./P115_uniprot_nodes.csv\", index=False)"
   ]
  },
  {
   "cell_type": "markdown",
   "id": "71cd83f0-7063-4a91-b664-9c9726e61959",
   "metadata": {},
   "source": [
    "### Now, downgrade pandas"
   ]
  },
  {
   "cell_type": "raw",
   "id": "ad43a083-a670-4292-8a15-2ee105689c2e",
   "metadata": {},
   "source": [
    "pip uninstall pandas\n",
    "pip install pandas==1.1.5"
   ]
  },
  {
   "cell_type": "code",
   "execution_count": null,
   "id": "8d97c099-6c2c-4ea2-964a-6d7919b312cf",
   "metadata": {},
   "outputs": [],
   "source": [
    "import pandas as pd\n",
    "import pickle\n",
    "assert pd.__version__ == \"1.1.5\""
   ]
  },
  {
   "cell_type": "code",
   "execution_count": null,
   "id": "2c8ec6ff-a7a4-4d90-a73b-e8aee20af66b",
   "metadata": {},
   "outputs": [],
   "source": [
    "csv = pd.read_csv(\"./p115_nodes.csv\")\n",
    "csv.to_pickle(\"C:/Users/ericj/Downloads/verit-web/PMC_OA_pickles/pandas_1.1.5_pickles/nodes.pkl\")\n",
    "\n",
    "csv = pd.read_csv(\"./p115_uniprot_nodes.csv\")\n",
    "csv.to_pickle(\"C:/Users/ericj/Downloads/verit-web/PMC_OA_pickles/pandas_1.1.5_pickles/uniprot_nodes.pkl\")"
   ]
  },
  {
   "cell_type": "code",
   "execution_count": null,
   "id": "668caf0c-71fb-4d44-b8de-aeb13468e42f",
   "metadata": {},
   "outputs": [],
   "source": []
  }
 ],
 "metadata": {
  "kernelspec": {
   "display_name": "Python 3 (ipykernel)",
   "language": "python",
   "name": "python3"
  },
  "language_info": {
   "codemirror_mode": {
    "name": "ipython",
    "version": 3
   },
   "file_extension": ".py",
   "mimetype": "text/x-python",
   "name": "python",
   "nbconvert_exporter": "python",
   "pygments_lexer": "ipython3",
   "version": "3.9.13"
  }
 },
 "nbformat": 4,
 "nbformat_minor": 5
}
